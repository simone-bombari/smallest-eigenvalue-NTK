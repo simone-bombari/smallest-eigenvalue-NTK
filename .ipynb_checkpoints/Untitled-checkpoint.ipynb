{
 "cells": [
  {
   "cell_type": "code",
   "execution_count": 1,
   "id": "b74f5dad",
   "metadata": {},
   "outputs": [],
   "source": [
    "import torchvision\n",
    "import torch\n",
    "from torch.utils.data import DataLoader\n",
    "import torch.optim as optim\n",
    "import matplotlib.pyplot as plt\n",
    "import numpy as np\n",
    "from utils import loss_calculator, compute_loss_accuracy, build_Gaussian_dataset, call_partial_mnist\n",
    "from utils import FullyConnected_4relu, compute_ntk\n",
    "\n",
    "\n",
    "\n",
    "N = 10\n",
    "d = 5\n",
    "device = 'cpu'\n",
    "\n",
    "dataset_train = call_partial_mnist(N, N)\n",
    "dataset_train_g = build_Gaussian_dataset(N, d)\n",
    "net = FullyConnected_4relu(d).to(device)\n",
    "\n",
    "batch_size = N\n",
    "lr = 1 / (10 * np.sqrt(N))\n",
    "\n",
    "train_loader = torch.utils.data.DataLoader(dataset_train, batch_size=batch_size)\n",
    "\n",
    "# optimizer = optim.Adam(net.parameters(), lr=lr)\n",
    "# epochs = 10000\n",
    "# previous_loss = np.inf\n",
    "\n",
    "# for epoch in range(epochs):\n",
    "\n",
    "#     if epoch % 100 == 0:\n",
    "#         if epoch > 0:\n",
    "#             if average_loss > previous_loss:\n",
    "#                 break\n",
    "#             else:\n",
    "#                 previous_loss = average_loss\n",
    "#         average_loss = 0\n",
    "\n",
    "#     total_labels = np.zeros(10)\n",
    "#     for input_images, labels in iter(train_loader):\n",
    "#         input_images, labels = input_images.to(device), labels.to(device)\n",
    "#         optimizer.zero_grad()\n",
    "#         outputs = net(input_images)\n",
    "#         loss = loss_calculator(outputs, labels, loss_function, None, device)\n",
    "#         loss.backward()\n",
    "#         optimizer.step()\n",
    "\n",
    "#     if epoch % 100 == 99:\n",
    "#         with torch.no_grad():\n",
    "#             print('Epoch {}:\\nTrain loss = {:.7f}\\n'.format(\n",
    "#                    epoch+1, loss), flush=True)\n",
    "\n",
    "#     average_loss += loss\n",
    "\n",
    "# previous_loss = previous_loss.item() / 50"
   ]
  },
  {
   "cell_type": "code",
   "execution_count": 2,
   "id": "02cf4daa",
   "metadata": {},
   "outputs": [
    {
     "data": {
      "text/plain": [
       "<torch.utils.data.dataloader.DataLoader at 0x7f6d40acf9a0>"
      ]
     },
     "execution_count": 2,
     "metadata": {},
     "output_type": "execute_result"
    }
   ],
   "source": [
    "dataset_train"
   ]
  },
  {
   "cell_type": "code",
   "execution_count": 3,
   "id": "37f83c16",
   "metadata": {},
   "outputs": [
    {
     "data": {
      "text/plain": [
       "<torch.utils.data.dataset.TensorDataset at 0x7f6d40acf8e0>"
      ]
     },
     "execution_count": 3,
     "metadata": {},
     "output_type": "execute_result"
    }
   ],
   "source": [
    "dataset_train_g"
   ]
  },
  {
   "cell_type": "code",
   "execution_count": null,
   "id": "b312ceaf",
   "metadata": {},
   "outputs": [],
   "source": []
  }
 ],
 "metadata": {
  "kernelspec": {
   "display_name": "Python 3",
   "language": "python",
   "name": "python3"
  },
  "language_info": {
   "codemirror_mode": {
    "name": "ipython",
    "version": 3
   },
   "file_extension": ".py",
   "mimetype": "text/x-python",
   "name": "python",
   "nbconvert_exporter": "python",
   "pygments_lexer": "ipython3",
   "version": "3.8.8"
  }
 },
 "nbformat": 4,
 "nbformat_minor": 5
}
